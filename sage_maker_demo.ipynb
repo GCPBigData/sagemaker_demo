{
 "cells": [
  {
   "cell_type": "markdown",
   "metadata": {},
   "source": [
    "# SageMaker Endpoint Demo\n",
    "Create a text classification model endpoint using [BlazingText](https://docs.aws.amazon.com/sagemaker/latest/dg/blazingtext.html) by Amazon SageMaker. BlazingText is Amazon's implementation of [fastText](https://fasttext.cc/). The supervised version implements [Word2Vec](https://en.wikipedia.org/wiki/Word2vec) to featurize a text corpus and multinomial logistic regression to predict an inputs class."
   ]
  },
  {
   "cell_type": "markdown",
   "metadata": {},
   "source": [
    "## Dependencies\n",
    "* Create an [AWS account](https://aws.amazon.com) if you don't already have one\n",
    "* [Create an admin user in AWS IAM](https://docs.aws.amazon.com/IAM/latest/UserGuide/getting-started_create-admin-group.html)\n",
    "* ``pip install awscli --upgrade --user``\n",
    "* [Configure the AWS CLI](https://docs.aws.amazon.com/cli/latest/userguide/cli-chap-configure.html#cli-quick-configuration)\n",
    "* ``pip install boto3``\n",
    "* ``pip install sagemaker``\n",
    "* [Create an S3 bucket](https://docs.aws.amazon.com/AmazonS3/latest/gsg/CreatingABucket.html)"
   ]
  },
  {
   "cell_type": "code",
   "execution_count": null,
   "metadata": {},
   "outputs": [],
   "source": [
    "import pandas as pd\n",
    "\n",
    "import boto3\n",
    "import sagemaker \n",
    "\n",
    "from utils import clean_text"
   ]
  },
  {
   "cell_type": "markdown",
   "metadata": {},
   "source": [
    "### Format training data\n",
    "BlazingText requires a ``.txt`` file as an input for training. Each line in the file should be in the following format: **\"\\__label__class_name text input to categorize\"**\n",
    "\n",
    "**Here's an example:**\n",
    "```\n",
    "__label__positive the service was fantastic and the pizza was to die for\n",
    "__label__negative i got food poisoning here definitely not going back wish i could give 0 stars\n",
    "```"
   ]
  },
  {
   "cell_type": "code",
   "execution_count": null,
   "metadata": {},
   "outputs": [],
   "source": [
    "# Read in Yelp dataset.\n",
    "df = pd.read_csv('./data/train.csv', header='infer', names=['rating', 'item_text'])\n",
    "\n",
    "# Subset the data for purposes of this demo.\n",
    "df = df.sample(frac=.1)\n",
    "\n",
    "# Format text for BlazingText input.\n",
    "df['item_text'] = df['item_text'].map(clean_text)\n",
    "df['rating'] = df['rating'].astype(str)\n",
    "df['data'] = '__label__' + df['rating'] + ' ' + df['item_text']\n",
    "\n",
    "# Write data locally.\n",
    "with open('./data/train.txt', 'w') as f:\n",
    "    for item in df['data']:\n",
    "        f.write('{}\\n'.format(item))"
   ]
  },
  {
   "cell_type": "code",
   "execution_count": null,
   "metadata": {},
   "outputs": [],
   "source": [
    "# Create SageMaker session.\n",
    "sess = sagemaker.Session()"
   ]
  },
  {
   "cell_type": "markdown",
   "metadata": {},
   "source": [
    "### Training data to S3\n",
    "Create a bucket and filepath for your data on AWS S3."
   ]
  },
  {
   "cell_type": "code",
   "execution_count": null,
   "metadata": {},
   "outputs": [],
   "source": [
    "# Define the S3 bucket to use, along with path for model files.\n",
    "bucket = 'bwl-sage'\n",
    "prefix = 'sagemaker/blaze-demo'\n",
    "train_channel = prefix + '/train'\n",
    "s3_train_data = 's3://{}/{}'.format(bucket, train_channel)\n",
    "s3_output_location = 's3://{}/{}/output'.format(bucket, prefix)"
   ]
  },
  {
   "cell_type": "code",
   "execution_count": null,
   "metadata": {},
   "outputs": [],
   "source": [
    "# Upload the training data to S3.\n",
    "sess.upload_data(path='./data/train.txt', bucket=bucket,\n",
    "                 key_prefix=train_channel)"
   ]
  },
  {
   "cell_type": "markdown",
   "metadata": {},
   "source": [
    "### Containers\n",
    "SageMaker comes with several built-in model containers or you can define your own."
   ]
  },
  {
   "cell_type": "code",
   "execution_count": null,
   "metadata": {},
   "outputs": [],
   "source": [
    "# Define the AWS region.\n",
    "region = boto3.Session().region_name\n",
    "\n",
    "# Use the BlazingText built-in container.\n",
    "container = sagemaker.amazon.amazon_estimator.get_image_uri(\n",
    "    region, \"blazingtext\", \"latest\"\n",
    ")"
   ]
  },
  {
   "cell_type": "markdown",
   "metadata": {},
   "source": [
    "### SageMaker IAM roles\n",
    "Create a SageMaker execution role by following the instructions [here](https://docs.aws.amazon.com/glue/latest/dg/create-an-iam-role-sagemaker-notebook.html). Once the role is created, copy the role ARN below."
   ]
  },
  {
   "cell_type": "code",
   "execution_count": null,
   "metadata": {},
   "outputs": [],
   "source": [
    "# Your IAM role ARN here.\n",
    "role = 'arn:aws:iam::484039584206:role/service-role/AmazonSageMaker-ExecutionRole-20190723T163578'"
   ]
  },
  {
   "cell_type": "markdown",
   "metadata": {},
   "source": [
    "### Build and train the model\n",
    "The purpose of this demo is to build a model API with SageMaker. Because of that, I've ignored hyperparameter tuning and model validation. With SageMaker, you can perform [Bayesian hyperparameter optimization](https://docs.aws.amazon.com/sagemaker/latest/dg/automatic-model-tuning-how-it-works.html) -- check it out!"
   ]
  },
  {
   "cell_type": "code",
   "execution_count": null,
   "metadata": {},
   "outputs": [],
   "source": [
    "blazing = sagemaker.estimator.Estimator(\n",
    "    container, role, train_instance_count=1,\n",
    "    train_instance_type='ml.m4.xlarge', train_volume_size=5,\n",
    "    train_max_run=36000, input_mode='File', output_path=s3_output_location,\n",
    "    sagemaker_session=sess\n",
    ")\n",
    "blazing.set_hyperparameters(\n",
    "    mode=\"supervised\", epochs=5, min_count=5, sampling_threshold=.0001,\n",
    "    learning_rate=.03, window_size=5, vector_dim=100, negative_samples=5,\n",
    "    subwords=True\n",
    ")"
   ]
  },
  {
   "cell_type": "code",
   "execution_count": null,
   "metadata": {},
   "outputs": [],
   "source": [
    "train_data = sagemaker.session.s3_input(\n",
    "    s3_train_data, distribution='FullyReplicated', content_type='text/plain',\n",
    "    s3_data_type='S3Prefix'\n",
    ")\n",
    "data_channels = {'train': train_data}"
   ]
  },
  {
   "cell_type": "code",
   "execution_count": null,
   "metadata": {},
   "outputs": [],
   "source": [
    "# Train the model.\n",
    "blazing.fit(inputs=data_channels, logs=True)"
   ]
  },
  {
   "cell_type": "code",
   "execution_count": null,
   "metadata": {},
   "outputs": [],
   "source": [
    "# Deploy the model and print the endpoint.\n",
    "blazing_endpoint = blazing.deploy(initial_instance_count=1, instance_type='ml.t2.medium')\n",
    "print('Model deployed to endpoint: {}'.format(blazing_endpoint.endpoint))"
   ]
  },
  {
   "cell_type": "code",
   "execution_count": null,
   "metadata": {},
   "outputs": [],
   "source": [
    "import json\n",
    "blazing_endpoint.predict(json.dumps({'instances': ['great food!', 'bad service']}))"
   ]
  },
  {
   "cell_type": "markdown",
   "metadata": {},
   "source": [
    "### WARNING\n",
    "Leaving these resources up costs $$$! If you don't intend to leave them up, be sure to remove them by navigating to SageMaker and S3 in the AWS console and deleting the resources you've provisioned."
   ]
  },
  {
   "cell_type": "code",
   "execution_count": null,
   "metadata": {},
   "outputs": [],
   "source": [
    "# You can delete the endpoint by uncommenting the code below and executing the following this cell. \n",
    "# You'll still need to delete your other resources -- S3, Lambda, API Gateway.\n",
    "\n",
    "# blazing.delete_endpoint()"
   ]
  },
  {
   "cell_type": "markdown",
   "metadata": {},
   "source": [
    "# Next\n",
    "* **IAM policy and role for Lambda to invoke SageMaker**\n",
    "```json\n",
    "{\n",
    "    \"Version\": \"2012-10-17\",\n",
    "    \"Statement\": [\n",
    "        {\n",
    "            \"Sid\": \"VisualEditor0\",\n",
    "            \"Effect\": \"Allow\",\n",
    "            \"Action\": \"sagemaker:InvokeEndpoint\",\n",
    "            \"Resource\": \"*\"\n",
    "        }\n",
    "    ]\n",
    "}\n",
    "```\n",
    "* **Lambda function defined -- use ``lambda_function.py`` or build your own**\n",
    "* **Configure API Gateway**\n",
    "* **Test the API**\n",
    "```json\n",
    "{\n",
    "    \"data\": [\n",
    "        \"Pizza was ammaazzzzing. Def would recommend.\",\n",
    "        \"my dog loves the beer. atmosphere was great.\",\n",
    "        \"food was ok. horrible service. not going back.\",\n",
    "        \"Service was way too slow!\"\n",
    "    ]\n",
    "}\n",
    "```"
   ]
  },
  {
   "cell_type": "code",
   "execution_count": null,
   "metadata": {},
   "outputs": [],
   "source": []
  }
 ],
 "metadata": {
  "kernelspec": {
   "display_name": "Python 3",
   "language": "python",
   "name": "python3"
  },
  "language_info": {
   "codemirror_mode": {
    "name": "ipython",
    "version": 3
   },
   "file_extension": ".py",
   "mimetype": "text/x-python",
   "name": "python",
   "nbconvert_exporter": "python",
   "pygments_lexer": "ipython3",
   "version": "3.7.3"
  }
 },
 "nbformat": 4,
 "nbformat_minor": 2
}
